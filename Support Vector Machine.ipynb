{
 "cells": [
  {
   "cell_type": "markdown",
   "id": "d973bc18",
   "metadata": {},
   "source": [
    "# Importing the necessary libraries"
   ]
  },
  {
   "cell_type": "code",
   "execution_count": 1,
   "id": "e8576859",
   "metadata": {
    "collapsed": true
   },
   "outputs": [
    {
     "name": "stdout",
     "output_type": "stream",
     "text": [
      "Requirement already satisfied: pandas in /Users/eleanorjolliffe/anaconda3/lib/python3.10/site-packages (1.5.3)\n",
      "Requirement already satisfied: scikit-learn in /Users/eleanorjolliffe/anaconda3/lib/python3.10/site-packages (1.2.1)\n",
      "Requirement already satisfied: python-dateutil>=2.8.1 in /Users/eleanorjolliffe/anaconda3/lib/python3.10/site-packages (from pandas) (2.8.2)\n",
      "Requirement already satisfied: pytz>=2020.1 in /Users/eleanorjolliffe/anaconda3/lib/python3.10/site-packages (from pandas) (2022.7)\n",
      "Requirement already satisfied: numpy>=1.21.0 in /Users/eleanorjolliffe/anaconda3/lib/python3.10/site-packages (from pandas) (1.23.5)\n",
      "Requirement already satisfied: scipy>=1.3.2 in /Users/eleanorjolliffe/anaconda3/lib/python3.10/site-packages (from scikit-learn) (1.10.0)\n",
      "Requirement already satisfied: joblib>=1.1.1 in /Users/eleanorjolliffe/anaconda3/lib/python3.10/site-packages (from scikit-learn) (1.1.1)\n",
      "Requirement already satisfied: threadpoolctl>=2.0.0 in /Users/eleanorjolliffe/anaconda3/lib/python3.10/site-packages (from scikit-learn) (2.2.0)\n",
      "Requirement already satisfied: six>=1.5 in /Users/eleanorjolliffe/anaconda3/lib/python3.10/site-packages (from python-dateutil>=2.8.1->pandas) (1.16.0)\n"
     ]
    }
   ],
   "source": [
    "!pip install pandas scikit-learn "
   ]
  },
  {
   "cell_type": "code",
   "execution_count": 2,
   "id": "5a366f2f",
   "metadata": {
    "collapsed": true
   },
   "outputs": [
    {
     "name": "stdout",
     "output_type": "stream",
     "text": [
      "Requirement already satisfied: numpy in /Users/eleanorjolliffe/anaconda3/lib/python3.10/site-packages (1.23.5)\n",
      "Requirement already satisfied: scipy in /Users/eleanorjolliffe/anaconda3/lib/python3.10/site-packages (1.10.0)\n",
      "Requirement already satisfied: numpy<1.27.0,>=1.19.5 in /Users/eleanorjolliffe/anaconda3/lib/python3.10/site-packages (from scipy) (1.23.5)\n"
     ]
    }
   ],
   "source": [
    "!pip install numpy\n",
    "!pip install scipy\n"
   ]
  },
  {
   "cell_type": "code",
   "execution_count": 3,
   "id": "14cfba57",
   "metadata": {},
   "outputs": [],
   "source": [
    "from sklearn import svm\n",
    "from sklearn.svm import SVC  #\n",
    "from sklearn.multiclass import OneVsRestClassifier  \n",
    "from sklearn.model_selection import train_test_split\n",
    "from sklearn.metrics import accuracy_score, precision_score, f1_score, recall_score, classification_report\n",
    "from sklearn.linear_model import LogisticRegression\n",
    "import pandas as pd"
   ]
  },
  {
   "cell_type": "markdown",
   "id": "740817d0",
   "metadata": {},
   "source": [
    "# Importing and normalising the data"
   ]
  },
  {
   "cell_type": "code",
   "execution_count": 16,
   "id": "bb94c8c8",
   "metadata": {},
   "outputs": [],
   "source": [
    "#importing the data\n",
    "song_features = pd.read_excel('song_features.xlsx')\n",
    "data = song_features.drop('Track Name', axis = 1)\n"
   ]
  },
  {
   "cell_type": "code",
   "execution_count": 23,
   "id": "4219e405",
   "metadata": {},
   "outputs": [],
   "source": [
    "from sklearn.preprocessing import StandardScaler\n",
    "import pandas as pd\n",
    "\n",
    "# Assuming 'data' is your DataFrame with multiple features\n",
    "scaler = StandardScaler()\n",
    "normalized = pd.DataFrame(scaler.fit_transform(data), columns=data.columns)\n",
    "normalized.to_excel('normalised.xlsx', index=False)\n"
   ]
  },
  {
   "cell_type": "markdown",
   "id": "8e5a61c1",
   "metadata": {},
   "source": [
    "# Importing the normalised and labelled data "
   ]
  },
  {
   "cell_type": "code",
   "execution_count": 17,
   "id": "4cb32448",
   "metadata": {},
   "outputs": [
    {
     "data": {
      "text/html": [
       "<div>\n",
       "<style scoped>\n",
       "    .dataframe tbody tr th:only-of-type {\n",
       "        vertical-align: middle;\n",
       "    }\n",
       "\n",
       "    .dataframe tbody tr th {\n",
       "        vertical-align: top;\n",
       "    }\n",
       "\n",
       "    .dataframe thead th {\n",
       "        text-align: right;\n",
       "    }\n",
       "</style>\n",
       "<table border=\"1\" class=\"dataframe\">\n",
       "  <thead>\n",
       "    <tr style=\"text-align: right;\">\n",
       "      <th></th>\n",
       "      <th>% of non profance words</th>\n",
       "      <th>Track Popularity</th>\n",
       "      <th>% of non-English (Spanish) words</th>\n",
       "      <th>label</th>\n",
       "      <th>Speed Ranking</th>\n",
       "    </tr>\n",
       "  </thead>\n",
       "  <tbody>\n",
       "    <tr>\n",
       "      <th>0</th>\n",
       "      <td>0.927646</td>\n",
       "      <td>-0.960336</td>\n",
       "      <td>-0.956722</td>\n",
       "      <td>0</td>\n",
       "      <td>-0.546715</td>\n",
       "    </tr>\n",
       "    <tr>\n",
       "      <th>1</th>\n",
       "      <td>0.301489</td>\n",
       "      <td>1.272340</td>\n",
       "      <td>-0.009340</td>\n",
       "      <td>1</td>\n",
       "      <td>0.906059</td>\n",
       "    </tr>\n",
       "    <tr>\n",
       "      <th>2</th>\n",
       "      <td>0.410412</td>\n",
       "      <td>1.750771</td>\n",
       "      <td>0.522009</td>\n",
       "      <td>1</td>\n",
       "      <td>0.906059</td>\n",
       "    </tr>\n",
       "    <tr>\n",
       "      <th>3</th>\n",
       "      <td>0.201741</td>\n",
       "      <td>0.368638</td>\n",
       "      <td>-0.116014</td>\n",
       "      <td>0</td>\n",
       "      <td>0.906059</td>\n",
       "    </tr>\n",
       "    <tr>\n",
       "      <th>4</th>\n",
       "      <td>0.315883</td>\n",
       "      <td>0.793909</td>\n",
       "      <td>0.169615</td>\n",
       "      <td>1</td>\n",
       "      <td>0.906059</td>\n",
       "    </tr>\n",
       "    <tr>\n",
       "      <th>...</th>\n",
       "      <td>...</td>\n",
       "      <td>...</td>\n",
       "      <td>...</td>\n",
       "      <td>...</td>\n",
       "      <td>...</td>\n",
       "    </tr>\n",
       "    <tr>\n",
       "      <th>494</th>\n",
       "      <td>0.324206</td>\n",
       "      <td>0.156002</td>\n",
       "      <td>-0.065712</td>\n",
       "      <td>0</td>\n",
       "      <td>-0.546715</td>\n",
       "    </tr>\n",
       "    <tr>\n",
       "      <th>495</th>\n",
       "      <td>0.927646</td>\n",
       "      <td>0.634433</td>\n",
       "      <td>-0.401626</td>\n",
       "      <td>1</td>\n",
       "      <td>0.906059</td>\n",
       "    </tr>\n",
       "    <tr>\n",
       "      <th>496</th>\n",
       "      <td>0.495989</td>\n",
       "      <td>0.900227</td>\n",
       "      <td>-0.032150</td>\n",
       "      <td>1</td>\n",
       "      <td>0.906059</td>\n",
       "    </tr>\n",
       "    <tr>\n",
       "      <th>497</th>\n",
       "      <td>0.529417</td>\n",
       "      <td>0.315479</td>\n",
       "      <td>-0.084996</td>\n",
       "      <td>1</td>\n",
       "      <td>-0.546715</td>\n",
       "    </tr>\n",
       "    <tr>\n",
       "      <th>498</th>\n",
       "      <td>0.927646</td>\n",
       "      <td>0.315479</td>\n",
       "      <td>-0.571022</td>\n",
       "      <td>1</td>\n",
       "      <td>0.906059</td>\n",
       "    </tr>\n",
       "  </tbody>\n",
       "</table>\n",
       "<p>499 rows × 5 columns</p>\n",
       "</div>"
      ],
      "text/plain": [
       "     % of non profance words  Track Popularity  \\\n",
       "0                   0.927646         -0.960336   \n",
       "1                   0.301489          1.272340   \n",
       "2                   0.410412          1.750771   \n",
       "3                   0.201741          0.368638   \n",
       "4                   0.315883          0.793909   \n",
       "..                       ...               ...   \n",
       "494                 0.324206          0.156002   \n",
       "495                 0.927646          0.634433   \n",
       "496                 0.495989          0.900227   \n",
       "497                 0.529417          0.315479   \n",
       "498                 0.927646          0.315479   \n",
       "\n",
       "     % of non-English (Spanish) words  label  Speed Ranking  \n",
       "0                           -0.956722      0      -0.546715  \n",
       "1                           -0.009340      1       0.906059  \n",
       "2                            0.522009      1       0.906059  \n",
       "3                           -0.116014      0       0.906059  \n",
       "4                            0.169615      1       0.906059  \n",
       "..                                ...    ...            ...  \n",
       "494                         -0.065712      0      -0.546715  \n",
       "495                         -0.401626      1       0.906059  \n",
       "496                         -0.032150      1       0.906059  \n",
       "497                         -0.084996      1      -0.546715  \n",
       "498                         -0.571022      1       0.906059  \n",
       "\n",
       "[499 rows x 5 columns]"
      ]
     },
     "execution_count": 17,
     "metadata": {},
     "output_type": "execute_result"
    }
   ],
   "source": [
    "labelled_data = pd.read_excel('500_songs_labelled.xlsx')\n",
    "labelled_data"
   ]
  },
  {
   "cell_type": "code",
   "execution_count": 20,
   "id": "55275fa2",
   "metadata": {},
   "outputs": [],
   "source": [
    "x_features = labelled_data.drop('label', axis = 1)\n",
    "X = x_features\n",
    "y = labelled_data['label']\n"
   ]
  },
  {
   "cell_type": "markdown",
   "id": "3cd2ad43",
   "metadata": {},
   "source": [
    "# Running the SVM"
   ]
  },
  {
   "cell_type": "code",
   "execution_count": 21,
   "id": "e7fb8f27",
   "metadata": {},
   "outputs": [],
   "source": [
    "X_train, X_test, y_train, y_test = train_test_split(X, y, test_size=0.2, random_state=42)\n",
    "\n",
    "clf = svm.SVC()\n",
    "\n",
    "clf.fit(X_train, y_train)\n",
    "\n",
    "y_pred = clf.predict(X_test)"
   ]
  },
  {
   "cell_type": "markdown",
   "id": "07428784",
   "metadata": {},
   "source": [
    "# Printing the metrics"
   ]
  },
  {
   "cell_type": "code",
   "execution_count": 22,
   "id": "66076c63",
   "metadata": {},
   "outputs": [
    {
     "name": "stdout",
     "output_type": "stream",
     "text": [
      "Accuracy: 0.83\n"
     ]
    }
   ],
   "source": [
    "accuracy = accuracy_score(y_test, y_pred)\n",
    "print(\"Accuracy:\", accuracy)"
   ]
  },
  {
   "cell_type": "code",
   "execution_count": 23,
   "id": "3ba7fe5a",
   "metadata": {},
   "outputs": [
    {
     "name": "stdout",
     "output_type": "stream",
     "text": [
      "              precision    recall  f1-score   support\n",
      "\n",
      "           0       0.84      0.68      0.75        38\n",
      "           1       0.83      0.92      0.87        62\n",
      "\n",
      "    accuracy                           0.83       100\n",
      "   macro avg       0.83      0.80      0.81       100\n",
      "weighted avg       0.83      0.83      0.83       100\n",
      "\n"
     ]
    }
   ],
   "source": [
    "preds = clf.predict(X_test) \n",
    "print(classification_report(y_test, preds))"
   ]
  }
 ],
 "metadata": {
  "kernelspec": {
   "display_name": "Python 3 (ipykernel)",
   "language": "python",
   "name": "python3"
  },
  "language_info": {
   "codemirror_mode": {
    "name": "ipython",
    "version": 3
   },
   "file_extension": ".py",
   "mimetype": "text/x-python",
   "name": "python",
   "nbconvert_exporter": "python",
   "pygments_lexer": "ipython3",
   "version": "3.10.9"
  }
 },
 "nbformat": 4,
 "nbformat_minor": 5
}
